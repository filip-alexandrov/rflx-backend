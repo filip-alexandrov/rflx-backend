{
 "cells": [
  {
   "cell_type": "code",
   "execution_count": 7,
   "id": "70896de1",
   "metadata": {},
   "outputs": [],
   "source": [
    "import json \n",
    "import psycopg2\n"
   ]
  },
  {
   "cell_type": "code",
   "execution_count": 8,
   "id": "9a4b79ec",
   "metadata": {},
   "outputs": [],
   "source": [
    "with open(\"kk7766_comments.json\", \"r\") as f: \n",
    "    data = json.load(f)\n",
    "    \n",
    "db = psycopg2.connect(\n",
    "    dbname=\"postgres\",\n",
    "    user=\"admin\",\n",
    "    password=\"secret\",\n",
    "    host=\"localhost\",\n",
    "    port=5432\n",
    ")\n",
    "cursor = db.cursor()"
   ]
  },
  {
   "cell_type": "code",
   "execution_count": null,
   "id": "69c2f2cf",
   "metadata": {},
   "outputs": [],
   "source": [
    "# upload to postgres\n",
    "for item in data: \n",
    "    subredditNamePrefixed = item[\"subredditNamePrefixed\"]\n",
    "    createdAt = item[\"createdAt\"]\n",
    "    body = item[\"body\"]\n",
    "    score = item[\"score\"]\n",
    "    \n",
    "    query = \"\"\"\n",
    "        INSERT INTO kk_comments (subredditNamePrefixed, createdAt, body, score)\n",
    "        VALUES (%s, %s, %s, %s)\n",
    "    \"\"\"\n",
    "    cursor.execute(query, (subredditNamePrefixed, createdAt, body, score))\n",
    "\n",
    "db.commit()"
   ]
  },
  {
   "cell_type": "code",
   "execution_count": 12,
   "id": "880863b4",
   "metadata": {},
   "outputs": [],
   "source": [
    "with open(\"kk7766_posts.json\", \"r\") as f:\n",
    "    data = json.load(f)\n",
    "    \n",
    "for item in data:\n",
    "    createdAt = item[\"createdAt\"]\n",
    "    title = item[\"title\"]\n",
    "    selftext = item[\"selftext\"]\n",
    "    upvoteRatio = item[\"upvoteRatio\"]\n",
    "    \n",
    "    query = \"\"\"\n",
    "        INSERT INTO kk_posts (createdAt, title, selftext, upvoteRatio)\n",
    "        VALUES (%s, %s, %s, %s)\n",
    "    \"\"\"\n",
    "    \n",
    "    cursor.execute(query, (createdAt, title, selftext, upvoteRatio))\n",
    "db.commit()\n",
    "cursor.close()"
   ]
  }
 ],
 "metadata": {
  "kernelspec": {
   "display_name": ".venv",
   "language": "python",
   "name": "python3"
  },
  "language_info": {
   "codemirror_mode": {
    "name": "ipython",
    "version": 3
   },
   "file_extension": ".py",
   "mimetype": "text/x-python",
   "name": "python",
   "nbconvert_exporter": "python",
   "pygments_lexer": "ipython3",
   "version": "3.12.6"
  }
 },
 "nbformat": 4,
 "nbformat_minor": 5
}
